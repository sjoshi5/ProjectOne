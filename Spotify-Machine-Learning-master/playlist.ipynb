{
 "cells": [
  {
   "cell_type": "code",
   "execution_count": 1,
   "metadata": {},
   "outputs": [],
   "source": [
    "from  helpers import *\n",
    "import spotipy\n",
    "from spotipy import SpotifyClientCredentials, util\n",
    "import pandas as pd"
   ]
  },
  {
   "cell_type": "code",
   "execution_count": null,
   "metadata": {},
   "outputs": [],
   "source": [
    "client_id='f2018fb393c2424dba2844c31e8e2c18'\n",
    "client_secret='f4bb9567dafc4625877be647542fd919'\n",
    "redirect_uri='http://localhost:7777/callback'\n",
    "username = '9cjfei8bx9vq78vel4odrjd3y'"
   ]
  },
  {
   "cell_type": "code",
   "execution_count": 2,
   "metadata": {
    "tags": []
   },
   "outputs": [],
   "source": [
    "\n",
    "scope_playlist = 'playlist-modify-public'\n",
    "scope_user = 'user-library-modify'\n",
    "scope_playing = 'user-read-currently-playing'\n",
    "\n",
    "#Credentials to access the Spotify Music Data\n",
    "manager = SpotifyClientCredentials(client_id,client_secret)\n",
    "sp = spotipy.Spotify(client_credentials_manager=manager)\n",
    "\n",
    "#Credentials to access the actual song played\n",
    "token_actual = util.prompt_for_user_token(username,scope_playing,client_id,client_secret,redirect_uri) \n",
    "sp_actual = spotipy.Spotify(auth=token_actual)\n",
    "\n",
    "#Credentiasl to acces the library music \n",
    "token_user= util.prompt_for_user_token(username,scope_user,client_id,client_secret,redirect_uri) \n",
    "sp_user = spotipy.Spotify(auth=token_user)\n",
    "\n",
    "#Credentiasl to acces the Playlists Music\n",
    "token_playlist= util.prompt_for_user_token(username,scope_playlist,client_id,client_secret,redirect_uri) \n",
    "sp_playlist = spotipy.Spotify(auth=token_playlist)\n"
   ]
  },
  {
   "cell_type": "code",
   "execution_count": 3,
   "metadata": {},
   "outputs": [],
   "source": [
    "cluster_0 = pd.read_csv(\"data/cluster0.csv\")\n",
    "cluster_1 = pd.read_csv(\"data/cluster1.csv\")\n",
    "ids_0 = cluster_0['id'].tolist()\n",
    "ids_1 = cluster_1['id'].tolist()"
   ]
  },
  {
   "cell_type": "code",
   "execution_count": 13,
   "metadata": {
    "tags": []
   },
   "outputs": [
    {
     "data": {
      "text/plain": [
       "{'snapshot_id': 'NSwyZjllODNkNzJkOGEyZGU3ZjY2MzU5Y2JjYTBkYmQxOGQ2NDhlNGY0'}"
      ]
     },
     "execution_count": 13,
     "metadata": {},
     "output_type": "execute_result"
    }
   ],
   "source": [
    "radiohead_energy = sp_playlist.user_playlist_create(username,\"Radiohead :)\")\n",
    "radiohead_relaxed = sp_playlist.user_playlist_create(username,\"Radiohead :(\")\n"
   ]
  },
  {
   "cell_type": "code",
   "execution_count": 9,
   "metadata": {},
   "outputs": [
    {
     "data": {
      "text/plain": [
       "209"
      ]
     },
     "execution_count": 9,
     "metadata": {},
     "output_type": "execute_result"
    }
   ],
   "source": [
    "sp_playlist.user_playlist_add_tracks(username,'the_playlist_id',ids_1)"
   ]
  }
 ],
 "metadata": {
  "kernelspec": {
   "display_name": "Python 3.7.4 64-bit",
   "language": "python",
   "name": "python37464bit6dab32899f6947caab61992746272921"
  },
  "language_info": {
   "codemirror_mode": {
    "name": "ipython",
    "version": 3
   },
   "file_extension": ".py",
   "mimetype": "text/x-python",
   "name": "python",
   "nbconvert_exporter": "python",
   "pygments_lexer": "ipython3",
   "version": "3.7.4"
  }
 },
 "nbformat": 4,
 "nbformat_minor": 4
}
