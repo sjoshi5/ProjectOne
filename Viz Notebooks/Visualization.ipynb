{
 "cells": [
  {
   "cell_type": "code",
   "execution_count": 1,
   "metadata": {},
   "outputs": [],
   "source": [
    "import spotipy.util as util\n",
    "import spotipy\n",
    "import pandas as pd\n",
    "import numpy as np\n",
    "import json\n",
    "import time\n",
    "import sys\n",
    "import matplotlib.pyplot as plt\n",
    "import plotly\n",
    "import plotly.express as px\n",
    "import plotly.graph_objects as go\n",
    "from collections import OrderedDict\n",
    "from math import log\n",
    "import calmap"
   ]
  },
  {
   "cell_type": "code",
   "execution_count": 2,
   "metadata": {},
   "outputs": [
    {
     "data": {
      "text/html": [
       "        <script type=\"text/javascript\">\n",
       "        window.PlotlyConfig = {MathJaxConfig: 'local'};\n",
       "        if (window.MathJax) {MathJax.Hub.Config({SVG: {font: \"STIX-Web\"}});}\n",
       "        if (typeof require !== 'undefined') {\n",
       "        require.undef(\"plotly\");\n",
       "        requirejs.config({\n",
       "            paths: {\n",
       "                'plotly': ['https://cdn.plot.ly/plotly-latest.min']\n",
       "            }\n",
       "        });\n",
       "        require(['plotly'], function(Plotly) {\n",
       "            window._Plotly = Plotly;\n",
       "        });\n",
       "        }\n",
       "        </script>\n",
       "        "
      ]
     },
     "metadata": {},
     "output_type": "display_data"
    }
   ],
   "source": [
    "import plotly\n",
    "from plotly.offline import download_plotlyjs, init_notebook_mode,plot,iplot\n",
    "\n",
    "#plotly setup\n",
    "init_notebook_mode(connected=True)\n",
    "\n",
    "pd.set_option('display.max_colwidth', None)"
   ]
  },
  {
   "cell_type": "markdown",
   "metadata": {},
   "source": [
    "# Data Retrieval"
   ]
  },
  {
   "cell_type": "code",
   "execution_count": 3,
   "metadata": {},
   "outputs": [],
   "source": [
    "import ast\n",
    "from typing import List\n",
    "from os import listdir\n",
    "def get_streamings(path: str = 'Spotify Data') -> List[dict]:\n",
    "    \n",
    "    files = ['Spotify Data/' + x for x in listdir(path)\n",
    "             if x.split('.')[0][:-1] == 'StreamingHistory']\n",
    "    \n",
    "    all_streamings = []\n",
    "    \n",
    "    for file in files: \n",
    "        with open(file, 'r', encoding='UTF-8') as f:\n",
    "            new_streamings = ast.literal_eval(f.read())\n",
    "            all_streamings += [streaming for streaming \n",
    "                               in new_streamings]\n",
    "    return all_streamings\n",
    "original = get_streamings()"
   ]
  },
  {
   "cell_type": "code",
   "execution_count": 4,
   "metadata": {},
   "outputs": [],
   "source": [
    "username = '9cjfei8bx9vq78vel4odrjd3y'\n",
    "client_id ='f2018fb393c2424dba2844c31e8e2c18'\n",
    "client_secret = 'f4bb9567dafc4625877be647542fd919'\n",
    "redirect_uri = 'http://localhost:7777/callback'\n",
    "scope = 'user-read-recently-played user-top-read playlist-read-private user-library-read user-follow-read'\n",
    "\n",
    "token = util.prompt_for_user_token(username=username, \n",
    "scope=scope, \n",
    "client_id=client_id,   \n",
    "client_secret=client_secret,     \n",
    "redirect_uri=redirect_uri)"
   ]
  },
  {
   "cell_type": "code",
   "execution_count": 5,
   "metadata": {},
   "outputs": [],
   "source": [
    "\n",
    "import requests\n",
    "\n",
    "# write the function to get track_id\n",
    "def get_id(trackName: str,artistName:str, token: str) -> str:\n",
    "    headers = {\n",
    "    'Accept': 'application/json',\n",
    "    'Content-Type': 'application/json',\n",
    "    'Authorization': f'Bearer ' + token,\n",
    "    }\n",
    "    trackArtist = trackName+ \" \" + artistName\n",
    "    params = [\n",
    "    ('q',track_artist ),#q is the search query parameter\n",
    "    ('type', 'track'),\n",
    "    ]\n",
    "    try:\n",
    "        response = requests.get('https://api.spotify.com/v1/search', \n",
    "                    headers = headers, params = params, timeout = 10)\n",
    "        json = response.json()\n",
    "        first_result = json['tracks']['items'][0]\n",
    "        track_id = first_result['id']\n",
    "        return track_id\n",
    "    except:\n",
    "        return None   "
   ]
  },
  {
   "cell_type": "code",
   "execution_count": 6,
   "metadata": {},
   "outputs": [],
   "source": [
    "def get_features(track_id: str, token: str) -> dict:\n",
    "    sp = spotipy.Spotify(auth=token)\n",
    "    try:\n",
    "        features = sp.audio_features([track_id])\n",
    "        return features[0]\n",
    "    except:\n",
    "        return None"
   ]
  },
  {
   "cell_type": "code",
   "execution_count": 34,
   "metadata": {},
   "outputs": [],
   "source": [
    "spotify_data[\"trackId\"] = spotify_data.apply(lambda x: get_id(x[\"trackName\"],\n",
    "                                                               x[\"artistName\"],\n",
    "                                                                 token),axis=1)"
   ]
  },
  {
   "cell_type": "code",
   "execution_count": 14,
   "metadata": {},
   "outputs": [
    {
     "data": {
      "text/plain": [
       "'\\nfor track in tracks:\\n    song = get_id(track,token)\\n    sp = spotipy.Spotify(auth=token)\\n    features = sp.audio_features(tracks = [song])[0]\\n    if features is not None:\\n        my_feature = my_feature.append({\"song_id\":song,\\n                                    \"energy\":features[\\'energy\\'], \\n                                    \"liveness\":features[\\'liveness\\'],\\n                                    \"tempo\":features[\\'tempo\\'],\\n                                    \"speechiness\":features[\\'speechiness\\'],\\n                                    \"acousticness\":features[\\'acousticness\\'],\\n                                    \"instrumentalness\":features[\\'instrumentalness\\'],\\n                                    \"danceability\":features[\\'danceability\\'],\\n                                    \"duration_ms\":features[\\'duration_ms\\'],\\n                                    \"loudness\":features[\\'loudness\\'],\\n                                    \"valence\":features[\\'valence\\'],\\n                                    \"mode\":features[\\'mode\\'],\\n                                    \"key\":features[\"key\"],\\n                                 },ignore_index=True)\\n    else:\\n        pass\\n'"
      ]
     },
     "execution_count": 14,
     "metadata": {},
     "output_type": "execute_result"
    }
   ],
   "source": [
    "tracks = (spotify_data['trackName'])\n",
    "\n",
    "\n",
    "features_tot = pd.DataFrame()\n",
    "for track in tracks:\n",
    "    track_id = get_id(track, token)\n",
    "    features = get_features(track_id, token)\n",
    "    if features:\n",
    "        features_tot[track] = features\n",
    "\n",
    "'''\n",
    "for track in tracks:\n",
    "    song = get_id(track,token)\n",
    "    sp = spotipy.Spotify(auth=token)\n",
    "    features = sp.audio_features(tracks = [song])[0]\n",
    "    if features is not None:\n",
    "        my_feature = my_feature.append({\"song_id\":song,\n",
    "                                    \"energy\":features['energy'], \n",
    "                                    \"liveness\":features['liveness'],\n",
    "                                    \"tempo\":features['tempo'],\n",
    "                                    \"speechiness\":features['speechiness'],\n",
    "                                    \"acousticness\":features['acousticness'],\n",
    "                                    \"instrumentalness\":features['instrumentalness'],\n",
    "                                    \"danceability\":features['danceability'],\n",
    "                                    \"duration_ms\":features['duration_ms'],\n",
    "                                    \"loudness\":features['loudness'],\n",
    "                                    \"valence\":features['valence'],\n",
    "                                    \"mode\":features['mode'],\n",
    "                                    \"key\":features[\"key\"],\n",
    "                                 },ignore_index=True)\n",
    "    else:\n",
    "        pass\n",
    "'''"
   ]
  },
  {
   "cell_type": "code",
   "execution_count": 7,
   "metadata": {},
   "outputs": [],
   "source": [
    "features_tot = pd.read_pickle(r'C:\\Users\\hp\\Documents\\ProjectOne\\Created_features\\top_features.pkl')"
   ]
  },
  {
   "cell_type": "code",
   "execution_count": 9,
   "metadata": {},
   "outputs": [
    {
     "data": {
      "text/html": [
       "<div>\n",
       "<style scoped>\n",
       "    .dataframe tbody tr th:only-of-type {\n",
       "        vertical-align: middle;\n",
       "    }\n",
       "\n",
       "    .dataframe tbody tr th {\n",
       "        vertical-align: top;\n",
       "    }\n",
       "\n",
       "    .dataframe thead th {\n",
       "        text-align: right;\n",
       "    }\n",
       "</style>\n",
       "<table border=\"1\" class=\"dataframe\">\n",
       "  <thead>\n",
       "    <tr style=\"text-align: right;\">\n",
       "      <th></th>\n",
       "      <th>trackName</th>\n",
       "      <th>artistName</th>\n",
       "      <th>msPlayed</th>\n",
       "    </tr>\n",
       "  </thead>\n",
       "  <tbody>\n",
       "    <tr>\n",
       "      <th>0</th>\n",
       "      <td>'Round Midnight</td>\n",
       "      <td>Thelonious Monk</td>\n",
       "      <td>141731</td>\n",
       "    </tr>\n",
       "    <tr>\n",
       "      <th>1</th>\n",
       "      <td>01: How to Achieve Your Data Viz Goals - Featured Data Visualization by Lisa Charlotte Rost</td>\n",
       "      <td>Data Viz Today</td>\n",
       "      <td>334038</td>\n",
       "    </tr>\n",
       "    <tr>\n",
       "      <th>2</th>\n",
       "      <td>21 Guns</td>\n",
       "      <td>Green Day</td>\n",
       "      <td>560897</td>\n",
       "    </tr>\n",
       "    <tr>\n",
       "      <th>3</th>\n",
       "      <td>A Letter Home</td>\n",
       "      <td>Berlioz</td>\n",
       "      <td>139500</td>\n",
       "    </tr>\n",
       "    <tr>\n",
       "      <th>4</th>\n",
       "      <td>A Simple Song</td>\n",
       "      <td>Chris Stapleton</td>\n",
       "      <td>216013</td>\n",
       "    </tr>\n",
       "    <tr>\n",
       "      <th>...</th>\n",
       "      <td>...</td>\n",
       "      <td>...</td>\n",
       "      <td>...</td>\n",
       "    </tr>\n",
       "    <tr>\n",
       "      <th>706</th>\n",
       "      <td>illusions</td>\n",
       "      <td>Idealism</td>\n",
       "      <td>131324</td>\n",
       "    </tr>\n",
       "    <tr>\n",
       "      <th>707</th>\n",
       "      <td>inherent</td>\n",
       "      <td>UKDD</td>\n",
       "      <td>152641</td>\n",
       "    </tr>\n",
       "    <tr>\n",
       "      <th>708</th>\n",
       "      <td>kate's not here</td>\n",
       "      <td>girl in red</td>\n",
       "      <td>177327</td>\n",
       "    </tr>\n",
       "    <tr>\n",
       "      <th>709</th>\n",
       "      <td>we'll stay inside when it rains</td>\n",
       "      <td>Rook1e</td>\n",
       "      <td>130585</td>\n",
       "    </tr>\n",
       "    <tr>\n",
       "      <th>710</th>\n",
       "      <td>¿Viva La Gloria? (Little Girl)</td>\n",
       "      <td>Green Day</td>\n",
       "      <td>132624</td>\n",
       "    </tr>\n",
       "  </tbody>\n",
       "</table>\n",
       "<p>711 rows × 3 columns</p>\n",
       "</div>"
      ],
      "text/plain": [
       "                                                                                       trackName  \\\n",
       "0                                                                                'Round Midnight   \n",
       "1    01: How to Achieve Your Data Viz Goals - Featured Data Visualization by Lisa Charlotte Rost   \n",
       "2                                                                                        21 Guns   \n",
       "3                                                                                  A Letter Home   \n",
       "4                                                                                  A Simple Song   \n",
       "..                                                                                           ...   \n",
       "706                                                                                    illusions   \n",
       "707                                                                                     inherent   \n",
       "708                                                                              kate's not here   \n",
       "709                                                              we'll stay inside when it rains   \n",
       "710                                                               ¿Viva La Gloria? (Little Girl)   \n",
       "\n",
       "          artistName  msPlayed  \n",
       "0    Thelonious Monk    141731  \n",
       "1     Data Viz Today    334038  \n",
       "2          Green Day    560897  \n",
       "3            Berlioz    139500  \n",
       "4    Chris Stapleton    216013  \n",
       "..               ...       ...  \n",
       "706         Idealism    131324  \n",
       "707             UKDD    152641  \n",
       "708      girl in red    177327  \n",
       "709           Rook1e    130585  \n",
       "710        Green Day    132624  \n",
       "\n",
       "[711 rows x 3 columns]"
      ]
     },
     "execution_count": 9,
     "metadata": {},
     "output_type": "execute_result"
    }
   ],
   "source": [
    "spotify_data = pd.DataFrame(original)\n",
    "#spotify_data\n",
    "spotify_data = spotify_data.drop(spotify_data[spotify_data[\"msPlayed\"]<=120000].index)\n",
    "spotify_data = spotify_data.reset_index(drop= True)\n",
    "spotify_data = spotify_data.drop(['endTime'],axis=1)\n",
    "spotify_data = (pd.DataFrame(spotify_data.groupby(['trackName','artistName']).sum())).reset_index()\n",
    "spotify_data"
   ]
  },
  {
   "cell_type": "code",
   "execution_count": 10,
   "metadata": {},
   "outputs": [
    {
     "data": {
      "text/html": [
       "<div>\n",
       "<style scoped>\n",
       "    .dataframe tbody tr th:only-of-type {\n",
       "        vertical-align: middle;\n",
       "    }\n",
       "\n",
       "    .dataframe tbody tr th {\n",
       "        vertical-align: top;\n",
       "    }\n",
       "\n",
       "    .dataframe thead th {\n",
       "        text-align: right;\n",
       "    }\n",
       "</style>\n",
       "<table border=\"1\" class=\"dataframe\">\n",
       "  <thead>\n",
       "    <tr style=\"text-align: right;\">\n",
       "      <th></th>\n",
       "      <th>trackName</th>\n",
       "      <th>danceability</th>\n",
       "      <th>energy</th>\n",
       "      <th>key</th>\n",
       "      <th>loudness</th>\n",
       "      <th>mode</th>\n",
       "      <th>speechiness</th>\n",
       "      <th>acousticness</th>\n",
       "      <th>instrumentalness</th>\n",
       "      <th>liveness</th>\n",
       "      <th>...</th>\n",
       "      <th>tempo</th>\n",
       "      <th>type</th>\n",
       "      <th>id</th>\n",
       "      <th>uri</th>\n",
       "      <th>track_href</th>\n",
       "      <th>analysis_url</th>\n",
       "      <th>duration_ms</th>\n",
       "      <th>time_signature</th>\n",
       "      <th>artistName</th>\n",
       "      <th>msPlayed</th>\n",
       "    </tr>\n",
       "  </thead>\n",
       "  <tbody>\n",
       "    <tr>\n",
       "      <th>0</th>\n",
       "      <td>One More Night</td>\n",
       "      <td>0.716</td>\n",
       "      <td>0.821</td>\n",
       "      <td>5</td>\n",
       "      <td>-3.435</td>\n",
       "      <td>0</td>\n",
       "      <td>0.0314</td>\n",
       "      <td>0.0558</td>\n",
       "      <td>0</td>\n",
       "      <td>0.0844</td>\n",
       "      <td>...</td>\n",
       "      <td>92.997</td>\n",
       "      <td>audio_features</td>\n",
       "      <td>6cpk00i5TxCqSeqNi2HuIe</td>\n",
       "      <td>spotify:track:6cpk00i5TxCqSeqNi2HuIe</td>\n",
       "      <td>https://api.spotify.com/v1/tracks/6cpk00i5TxCqSeqNi2HuIe</td>\n",
       "      <td>Maroon 5</td>\n",
       "      <td>219547</td>\n",
       "      <td>4</td>\n",
       "      <td>Maroon 5</td>\n",
       "      <td>4817449</td>\n",
       "    </tr>\n",
       "    <tr>\n",
       "      <th>1</th>\n",
       "      <td>In The End</td>\n",
       "      <td>0.556</td>\n",
       "      <td>0.864</td>\n",
       "      <td>3</td>\n",
       "      <td>-5.87</td>\n",
       "      <td>0</td>\n",
       "      <td>0.0584</td>\n",
       "      <td>0.00958</td>\n",
       "      <td>0</td>\n",
       "      <td>0.209</td>\n",
       "      <td>...</td>\n",
       "      <td>105.143</td>\n",
       "      <td>audio_features</td>\n",
       "      <td>60a0Rd6pjrkxjPbaKzXjfq</td>\n",
       "      <td>spotify:track:60a0Rd6pjrkxjPbaKzXjfq</td>\n",
       "      <td>https://api.spotify.com/v1/tracks/60a0Rd6pjrkxjPbaKzXjfq</td>\n",
       "      <td>Black Veil Brides</td>\n",
       "      <td>216880</td>\n",
       "      <td>4</td>\n",
       "      <td>Black Veil Brides</td>\n",
       "      <td>4605837</td>\n",
       "    </tr>\n",
       "    <tr>\n",
       "      <th>2</th>\n",
       "      <td>Basket Case</td>\n",
       "      <td>0.442</td>\n",
       "      <td>0.943</td>\n",
       "      <td>3</td>\n",
       "      <td>-3.205</td>\n",
       "      <td>1</td>\n",
       "      <td>0.0602</td>\n",
       "      <td>0.00293</td>\n",
       "      <td>8.71e-06</td>\n",
       "      <td>0.091</td>\n",
       "      <td>...</td>\n",
       "      <td>85.064</td>\n",
       "      <td>audio_features</td>\n",
       "      <td>6L89mwZXSOwYl76YXfX13s</td>\n",
       "      <td>spotify:track:6L89mwZXSOwYl76YXfX13s</td>\n",
       "      <td>https://api.spotify.com/v1/tracks/6L89mwZXSOwYl76YXfX13s</td>\n",
       "      <td>Green Day</td>\n",
       "      <td>181533</td>\n",
       "      <td>4</td>\n",
       "      <td>Green Day</td>\n",
       "      <td>4352798</td>\n",
       "    </tr>\n",
       "    <tr>\n",
       "      <th>3</th>\n",
       "      <td>Give Me Novacaine / She's a Rebel</td>\n",
       "      <td>0.312</td>\n",
       "      <td>0.949</td>\n",
       "      <td>9</td>\n",
       "      <td>-3.533</td>\n",
       "      <td>1</td>\n",
       "      <td>0.0784</td>\n",
       "      <td>0.00185</td>\n",
       "      <td>1.78e-05</td>\n",
       "      <td>0.0569</td>\n",
       "      <td>...</td>\n",
       "      <td>154.795</td>\n",
       "      <td>audio_features</td>\n",
       "      <td>11I3KKHv7g2pXiuqRDabRA</td>\n",
       "      <td>spotify:track:11I3KKHv7g2pXiuqRDabRA</td>\n",
       "      <td>https://api.spotify.com/v1/tracks/11I3KKHv7g2pXiuqRDabRA</td>\n",
       "      <td>Green Day</td>\n",
       "      <td>326200</td>\n",
       "      <td>4</td>\n",
       "      <td>Green Day</td>\n",
       "      <td>10941190</td>\n",
       "    </tr>\n",
       "    <tr>\n",
       "      <th>4</th>\n",
       "      <td>I Knew You Were Trouble.</td>\n",
       "      <td>0.622</td>\n",
       "      <td>0.469</td>\n",
       "      <td>3</td>\n",
       "      <td>-6.798</td>\n",
       "      <td>0</td>\n",
       "      <td>0.0363</td>\n",
       "      <td>0.00454</td>\n",
       "      <td>2.25e-06</td>\n",
       "      <td>0.0335</td>\n",
       "      <td>...</td>\n",
       "      <td>77.019</td>\n",
       "      <td>audio_features</td>\n",
       "      <td>6FB3v4YcR57y4tXFcdxI1E</td>\n",
       "      <td>spotify:track:6FB3v4YcR57y4tXFcdxI1E</td>\n",
       "      <td>https://api.spotify.com/v1/tracks/6FB3v4YcR57y4tXFcdxI1E</td>\n",
       "      <td>Taylor Swift</td>\n",
       "      <td>219720</td>\n",
       "      <td>4</td>\n",
       "      <td>Taylor Swift</td>\n",
       "      <td>4237565</td>\n",
       "    </tr>\n",
       "    <tr>\n",
       "      <th>...</th>\n",
       "      <td>...</td>\n",
       "      <td>...</td>\n",
       "      <td>...</td>\n",
       "      <td>...</td>\n",
       "      <td>...</td>\n",
       "      <td>...</td>\n",
       "      <td>...</td>\n",
       "      <td>...</td>\n",
       "      <td>...</td>\n",
       "      <td>...</td>\n",
       "      <td>...</td>\n",
       "      <td>...</td>\n",
       "      <td>...</td>\n",
       "      <td>...</td>\n",
       "      <td>...</td>\n",
       "      <td>...</td>\n",
       "      <td>...</td>\n",
       "      <td>...</td>\n",
       "      <td>...</td>\n",
       "      <td>...</td>\n",
       "      <td>...</td>\n",
       "    </tr>\n",
       "    <tr>\n",
       "      <th>69</th>\n",
       "      <td>Free Bird</td>\n",
       "      <td>0.168</td>\n",
       "      <td>0.894</td>\n",
       "      <td>0</td>\n",
       "      <td>-4.267</td>\n",
       "      <td>1</td>\n",
       "      <td>0.0601</td>\n",
       "      <td>0.0015</td>\n",
       "      <td>0.00896</td>\n",
       "      <td>0.0642</td>\n",
       "      <td>...</td>\n",
       "      <td>151.855</td>\n",
       "      <td>audio_features</td>\n",
       "      <td>6CosyyANTKr1WY6aEeENSw</td>\n",
       "      <td>spotify:track:6CosyyANTKr1WY6aEeENSw</td>\n",
       "      <td>https://api.spotify.com/v1/tracks/6CosyyANTKr1WY6aEeENSw</td>\n",
       "      <td>Lynyrd Skynyrd</td>\n",
       "      <td>547600</td>\n",
       "      <td>4</td>\n",
       "      <td>Lynyrd Skynyrd</td>\n",
       "      <td>15581530</td>\n",
       "    </tr>\n",
       "    <tr>\n",
       "      <th>70</th>\n",
       "      <td>Ritual</td>\n",
       "      <td>0.647</td>\n",
       "      <td>0.726</td>\n",
       "      <td>3</td>\n",
       "      <td>-4.389</td>\n",
       "      <td>0</td>\n",
       "      <td>0.0552</td>\n",
       "      <td>0.157</td>\n",
       "      <td>0</td>\n",
       "      <td>0.0844</td>\n",
       "      <td>...</td>\n",
       "      <td>114.996</td>\n",
       "      <td>audio_features</td>\n",
       "      <td>3M9Apu4OZfylLTFKvgEtKa</td>\n",
       "      <td>spotify:track:3M9Apu4OZfylLTFKvgEtKa</td>\n",
       "      <td>https://api.spotify.com/v1/tracks/3M9Apu4OZfylLTFKvgEtKa</td>\n",
       "      <td>Black Veil Brides</td>\n",
       "      <td>198996</td>\n",
       "      <td>4</td>\n",
       "      <td>Black Veil Brides</td>\n",
       "      <td>4272626</td>\n",
       "    </tr>\n",
       "    <tr>\n",
       "      <th>71</th>\n",
       "      <td>Seeing Blind</td>\n",
       "      <td>0.716</td>\n",
       "      <td>0.555</td>\n",
       "      <td>9</td>\n",
       "      <td>-7.57</td>\n",
       "      <td>1</td>\n",
       "      <td>0.0368</td>\n",
       "      <td>0.0395</td>\n",
       "      <td>0</td>\n",
       "      <td>0.105</td>\n",
       "      <td>...</td>\n",
       "      <td>93.974</td>\n",
       "      <td>audio_features</td>\n",
       "      <td>65wnZsZLKJimfK1cTFOfa1</td>\n",
       "      <td>spotify:track:65wnZsZLKJimfK1cTFOfa1</td>\n",
       "      <td>https://api.spotify.com/v1/tracks/65wnZsZLKJimfK1cTFOfa1</td>\n",
       "      <td>Niall Horan</td>\n",
       "      <td>185281</td>\n",
       "      <td>4</td>\n",
       "      <td>Niall Horan</td>\n",
       "      <td>7983983</td>\n",
       "    </tr>\n",
       "    <tr>\n",
       "      <th>72</th>\n",
       "      <td>Story of My Life</td>\n",
       "      <td>0.6</td>\n",
       "      <td>0.663</td>\n",
       "      <td>3</td>\n",
       "      <td>-5.802</td>\n",
       "      <td>1</td>\n",
       "      <td>0.0477</td>\n",
       "      <td>0.225</td>\n",
       "      <td>0</td>\n",
       "      <td>0.119</td>\n",
       "      <td>...</td>\n",
       "      <td>121.07</td>\n",
       "      <td>audio_features</td>\n",
       "      <td>4nVBt6MZDDP6tRVdQTgxJg</td>\n",
       "      <td>spotify:track:4nVBt6MZDDP6tRVdQTgxJg</td>\n",
       "      <td>https://api.spotify.com/v1/tracks/4nVBt6MZDDP6tRVdQTgxJg</td>\n",
       "      <td>One Direction</td>\n",
       "      <td>245493</td>\n",
       "      <td>4</td>\n",
       "      <td>One Direction</td>\n",
       "      <td>9115959</td>\n",
       "    </tr>\n",
       "    <tr>\n",
       "      <th>73</th>\n",
       "      <td>Black Magic</td>\n",
       "      <td>0.777</td>\n",
       "      <td>0.895</td>\n",
       "      <td>4</td>\n",
       "      <td>-4.464</td>\n",
       "      <td>1</td>\n",
       "      <td>0.0618</td>\n",
       "      <td>0.0348</td>\n",
       "      <td>0</td>\n",
       "      <td>0.317</td>\n",
       "      <td>...</td>\n",
       "      <td>111.987</td>\n",
       "      <td>audio_features</td>\n",
       "      <td>5y6pj7OeBFF0CVgZKhRbOG</td>\n",
       "      <td>spotify:track:5y6pj7OeBFF0CVgZKhRbOG</td>\n",
       "      <td>https://api.spotify.com/v1/tracks/5y6pj7OeBFF0CVgZKhRbOG</td>\n",
       "      <td>Little Mix</td>\n",
       "      <td>211773</td>\n",
       "      <td>4</td>\n",
       "      <td>Little Mix</td>\n",
       "      <td>5745417</td>\n",
       "    </tr>\n",
       "  </tbody>\n",
       "</table>\n",
       "<p>74 rows × 21 columns</p>\n",
       "</div>"
      ],
      "text/plain": [
       "                            trackName danceability energy key loudness mode  \\\n",
       "0                      One More Night        0.716  0.821   5   -3.435    0   \n",
       "1                          In The End        0.556  0.864   3    -5.87    0   \n",
       "2                         Basket Case        0.442  0.943   3   -3.205    1   \n",
       "3   Give Me Novacaine / She's a Rebel        0.312  0.949   9   -3.533    1   \n",
       "4            I Knew You Were Trouble.        0.622  0.469   3   -6.798    0   \n",
       "..                                ...          ...    ...  ..      ...  ...   \n",
       "69                          Free Bird        0.168  0.894   0   -4.267    1   \n",
       "70                             Ritual        0.647  0.726   3   -4.389    0   \n",
       "71                       Seeing Blind        0.716  0.555   9    -7.57    1   \n",
       "72                   Story of My Life          0.6  0.663   3   -5.802    1   \n",
       "73                        Black Magic        0.777  0.895   4   -4.464    1   \n",
       "\n",
       "   speechiness acousticness instrumentalness liveness  ...    tempo  \\\n",
       "0       0.0314       0.0558                0   0.0844  ...   92.997   \n",
       "1       0.0584      0.00958                0    0.209  ...  105.143   \n",
       "2       0.0602      0.00293         8.71e-06    0.091  ...   85.064   \n",
       "3       0.0784      0.00185         1.78e-05   0.0569  ...  154.795   \n",
       "4       0.0363      0.00454         2.25e-06   0.0335  ...   77.019   \n",
       "..         ...          ...              ...      ...  ...      ...   \n",
       "69      0.0601       0.0015          0.00896   0.0642  ...  151.855   \n",
       "70      0.0552        0.157                0   0.0844  ...  114.996   \n",
       "71      0.0368       0.0395                0    0.105  ...   93.974   \n",
       "72      0.0477        0.225                0    0.119  ...   121.07   \n",
       "73      0.0618       0.0348                0    0.317  ...  111.987   \n",
       "\n",
       "              type                      id  \\\n",
       "0   audio_features  6cpk00i5TxCqSeqNi2HuIe   \n",
       "1   audio_features  60a0Rd6pjrkxjPbaKzXjfq   \n",
       "2   audio_features  6L89mwZXSOwYl76YXfX13s   \n",
       "3   audio_features  11I3KKHv7g2pXiuqRDabRA   \n",
       "4   audio_features  6FB3v4YcR57y4tXFcdxI1E   \n",
       "..             ...                     ...   \n",
       "69  audio_features  6CosyyANTKr1WY6aEeENSw   \n",
       "70  audio_features  3M9Apu4OZfylLTFKvgEtKa   \n",
       "71  audio_features  65wnZsZLKJimfK1cTFOfa1   \n",
       "72  audio_features  4nVBt6MZDDP6tRVdQTgxJg   \n",
       "73  audio_features  5y6pj7OeBFF0CVgZKhRbOG   \n",
       "\n",
       "                                     uri  \\\n",
       "0   spotify:track:6cpk00i5TxCqSeqNi2HuIe   \n",
       "1   spotify:track:60a0Rd6pjrkxjPbaKzXjfq   \n",
       "2   spotify:track:6L89mwZXSOwYl76YXfX13s   \n",
       "3   spotify:track:11I3KKHv7g2pXiuqRDabRA   \n",
       "4   spotify:track:6FB3v4YcR57y4tXFcdxI1E   \n",
       "..                                   ...   \n",
       "69  spotify:track:6CosyyANTKr1WY6aEeENSw   \n",
       "70  spotify:track:3M9Apu4OZfylLTFKvgEtKa   \n",
       "71  spotify:track:65wnZsZLKJimfK1cTFOfa1   \n",
       "72  spotify:track:4nVBt6MZDDP6tRVdQTgxJg   \n",
       "73  spotify:track:5y6pj7OeBFF0CVgZKhRbOG   \n",
       "\n",
       "                                                  track_href  \\\n",
       "0   https://api.spotify.com/v1/tracks/6cpk00i5TxCqSeqNi2HuIe   \n",
       "1   https://api.spotify.com/v1/tracks/60a0Rd6pjrkxjPbaKzXjfq   \n",
       "2   https://api.spotify.com/v1/tracks/6L89mwZXSOwYl76YXfX13s   \n",
       "3   https://api.spotify.com/v1/tracks/11I3KKHv7g2pXiuqRDabRA   \n",
       "4   https://api.spotify.com/v1/tracks/6FB3v4YcR57y4tXFcdxI1E   \n",
       "..                                                       ...   \n",
       "69  https://api.spotify.com/v1/tracks/6CosyyANTKr1WY6aEeENSw   \n",
       "70  https://api.spotify.com/v1/tracks/3M9Apu4OZfylLTFKvgEtKa   \n",
       "71  https://api.spotify.com/v1/tracks/65wnZsZLKJimfK1cTFOfa1   \n",
       "72  https://api.spotify.com/v1/tracks/4nVBt6MZDDP6tRVdQTgxJg   \n",
       "73  https://api.spotify.com/v1/tracks/5y6pj7OeBFF0CVgZKhRbOG   \n",
       "\n",
       "         analysis_url duration_ms time_signature         artistName  msPlayed  \n",
       "0            Maroon 5      219547              4           Maroon 5   4817449  \n",
       "1   Black Veil Brides      216880              4  Black Veil Brides   4605837  \n",
       "2           Green Day      181533              4          Green Day   4352798  \n",
       "3           Green Day      326200              4          Green Day  10941190  \n",
       "4        Taylor Swift      219720              4       Taylor Swift   4237565  \n",
       "..                ...         ...            ...                ...       ...  \n",
       "69     Lynyrd Skynyrd      547600              4     Lynyrd Skynyrd  15581530  \n",
       "70  Black Veil Brides      198996              4  Black Veil Brides   4272626  \n",
       "71        Niall Horan      185281              4        Niall Horan   7983983  \n",
       "72      One Direction      245493              4      One Direction   9115959  \n",
       "73         Little Mix      211773              4         Little Mix   5745417  \n",
       "\n",
       "[74 rows x 21 columns]"
      ]
     },
     "execution_count": 10,
     "metadata": {},
     "output_type": "execute_result"
    }
   ],
   "source": [
    "streamings = pd.merge(features_tot,spotify_data,how=\"left\",left_on='trackName',right_on='trackName')\n",
    "streamings = streamings.dropna()\n",
    "streamings"
   ]
  },
  {
   "cell_type": "code",
   "execution_count": 13,
   "metadata": {},
   "outputs": [],
   "source": [
    "means = pd.DataFrame(streamings.mean())\n",
    "means = means.reset_index()"
   ]
  },
  {
   "cell_type": "code",
   "execution_count": 19,
   "metadata": {},
   "outputs": [
    {
     "data": {
      "text/html": [
       "<div>\n",
       "<style scoped>\n",
       "    .dataframe tbody tr th:only-of-type {\n",
       "        vertical-align: middle;\n",
       "    }\n",
       "\n",
       "    .dataframe tbody tr th {\n",
       "        vertical-align: top;\n",
       "    }\n",
       "\n",
       "    .dataframe thead th {\n",
       "        text-align: right;\n",
       "    }\n",
       "</style>\n",
       "<table border=\"1\" class=\"dataframe\">\n",
       "  <thead>\n",
       "    <tr style=\"text-align: right;\">\n",
       "      <th></th>\n",
       "      <th>index</th>\n",
       "      <th>0</th>\n",
       "    </tr>\n",
       "  </thead>\n",
       "  <tbody>\n",
       "    <tr>\n",
       "      <th>0</th>\n",
       "      <td>danceability</td>\n",
       "      <td>0.604649</td>\n",
       "    </tr>\n",
       "    <tr>\n",
       "      <th>1</th>\n",
       "      <td>energy</td>\n",
       "      <td>0.717486</td>\n",
       "    </tr>\n",
       "    <tr>\n",
       "      <th>2</th>\n",
       "      <td>key</td>\n",
       "      <td>5.081081</td>\n",
       "    </tr>\n",
       "    <tr>\n",
       "      <th>3</th>\n",
       "      <td>loudness</td>\n",
       "      <td>-5.725108</td>\n",
       "    </tr>\n",
       "    <tr>\n",
       "      <th>4</th>\n",
       "      <td>mode</td>\n",
       "      <td>0.554054</td>\n",
       "    </tr>\n",
       "    <tr>\n",
       "      <th>5</th>\n",
       "      <td>speechiness</td>\n",
       "      <td>0.068339</td>\n",
       "    </tr>\n",
       "    <tr>\n",
       "      <th>6</th>\n",
       "      <td>acousticness</td>\n",
       "      <td>0.143094</td>\n",
       "    </tr>\n",
       "    <tr>\n",
       "      <th>7</th>\n",
       "      <td>instrumentalness</td>\n",
       "      <td>0.012891</td>\n",
       "    </tr>\n",
       "    <tr>\n",
       "      <th>8</th>\n",
       "      <td>liveness</td>\n",
       "      <td>0.172351</td>\n",
       "    </tr>\n",
       "    <tr>\n",
       "      <th>9</th>\n",
       "      <td>valence</td>\n",
       "      <td>0.567164</td>\n",
       "    </tr>\n",
       "  </tbody>\n",
       "</table>\n",
       "</div>"
      ],
      "text/plain": [
       "              index         0\n",
       "0      danceability  0.604649\n",
       "1            energy  0.717486\n",
       "2               key  5.081081\n",
       "3          loudness -5.725108\n",
       "4              mode  0.554054\n",
       "5       speechiness  0.068339\n",
       "6      acousticness  0.143094\n",
       "7  instrumentalness  0.012891\n",
       "8          liveness  0.172351\n",
       "9           valence  0.567164"
      ]
     },
     "execution_count": 19,
     "metadata": {},
     "output_type": "execute_result"
    }
   ],
   "source": [
    "means = means.iloc[0:10,:]\n",
    "means"
   ]
  },
  {
   "cell_type": "code",
   "execution_count": 20,
   "metadata": {},
   "outputs": [
    {
     "data": {
      "application/vnd.plotly.v1+json": {
       "config": {
        "plotlyServerURL": "https://plot.ly"
       },
       "data": [
        {
         "alignmentgroup": "True",
         "hovertemplate": "index=%{x}<br>0=%{y}<extra></extra>",
         "legendgroup": "",
         "marker": {
          "color": "#636efa"
         },
         "name": "",
         "offsetgroup": "",
         "orientation": "v",
         "showlegend": false,
         "textposition": "auto",
         "type": "bar",
         "x": [
          "danceability",
          "energy",
          "key",
          "loudness",
          "mode",
          "speechiness",
          "acousticness",
          "instrumentalness",
          "liveness",
          "valence"
         ],
         "xaxis": "x",
         "y": [
          0.6046486486486488,
          0.7174864864864865,
          5.081081081081081,
          -5.725108108108108,
          0.5540540540540541,
          0.06833918918918917,
          0.143094045945946,
          0.012891192027027027,
          0.17235135135135135,
          0.5671635135135137
         ],
         "yaxis": "y"
        }
       ],
       "layout": {
        "barmode": "relative",
        "legend": {
         "tracegroupgap": 0
        },
        "margin": {
         "t": 60
        },
        "template": {
         "data": {
          "bar": [
           {
            "error_x": {
             "color": "#2a3f5f"
            },
            "error_y": {
             "color": "#2a3f5f"
            },
            "marker": {
             "line": {
              "color": "#E5ECF6",
              "width": 0.5
             }
            },
            "type": "bar"
           }
          ],
          "barpolar": [
           {
            "marker": {
             "line": {
              "color": "#E5ECF6",
              "width": 0.5
             }
            },
            "type": "barpolar"
           }
          ],
          "carpet": [
           {
            "aaxis": {
             "endlinecolor": "#2a3f5f",
             "gridcolor": "white",
             "linecolor": "white",
             "minorgridcolor": "white",
             "startlinecolor": "#2a3f5f"
            },
            "baxis": {
             "endlinecolor": "#2a3f5f",
             "gridcolor": "white",
             "linecolor": "white",
             "minorgridcolor": "white",
             "startlinecolor": "#2a3f5f"
            },
            "type": "carpet"
           }
          ],
          "choropleth": [
           {
            "colorbar": {
             "outlinewidth": 0,
             "ticks": ""
            },
            "type": "choropleth"
           }
          ],
          "contour": [
           {
            "colorbar": {
             "outlinewidth": 0,
             "ticks": ""
            },
            "colorscale": [
             [
              0,
              "#0d0887"
             ],
             [
              0.1111111111111111,
              "#46039f"
             ],
             [
              0.2222222222222222,
              "#7201a8"
             ],
             [
              0.3333333333333333,
              "#9c179e"
             ],
             [
              0.4444444444444444,
              "#bd3786"
             ],
             [
              0.5555555555555556,
              "#d8576b"
             ],
             [
              0.6666666666666666,
              "#ed7953"
             ],
             [
              0.7777777777777778,
              "#fb9f3a"
             ],
             [
              0.8888888888888888,
              "#fdca26"
             ],
             [
              1,
              "#f0f921"
             ]
            ],
            "type": "contour"
           }
          ],
          "contourcarpet": [
           {
            "colorbar": {
             "outlinewidth": 0,
             "ticks": ""
            },
            "type": "contourcarpet"
           }
          ],
          "heatmap": [
           {
            "colorbar": {
             "outlinewidth": 0,
             "ticks": ""
            },
            "colorscale": [
             [
              0,
              "#0d0887"
             ],
             [
              0.1111111111111111,
              "#46039f"
             ],
             [
              0.2222222222222222,
              "#7201a8"
             ],
             [
              0.3333333333333333,
              "#9c179e"
             ],
             [
              0.4444444444444444,
              "#bd3786"
             ],
             [
              0.5555555555555556,
              "#d8576b"
             ],
             [
              0.6666666666666666,
              "#ed7953"
             ],
             [
              0.7777777777777778,
              "#fb9f3a"
             ],
             [
              0.8888888888888888,
              "#fdca26"
             ],
             [
              1,
              "#f0f921"
             ]
            ],
            "type": "heatmap"
           }
          ],
          "heatmapgl": [
           {
            "colorbar": {
             "outlinewidth": 0,
             "ticks": ""
            },
            "colorscale": [
             [
              0,
              "#0d0887"
             ],
             [
              0.1111111111111111,
              "#46039f"
             ],
             [
              0.2222222222222222,
              "#7201a8"
             ],
             [
              0.3333333333333333,
              "#9c179e"
             ],
             [
              0.4444444444444444,
              "#bd3786"
             ],
             [
              0.5555555555555556,
              "#d8576b"
             ],
             [
              0.6666666666666666,
              "#ed7953"
             ],
             [
              0.7777777777777778,
              "#fb9f3a"
             ],
             [
              0.8888888888888888,
              "#fdca26"
             ],
             [
              1,
              "#f0f921"
             ]
            ],
            "type": "heatmapgl"
           }
          ],
          "histogram": [
           {
            "marker": {
             "colorbar": {
              "outlinewidth": 0,
              "ticks": ""
             }
            },
            "type": "histogram"
           }
          ],
          "histogram2d": [
           {
            "colorbar": {
             "outlinewidth": 0,
             "ticks": ""
            },
            "colorscale": [
             [
              0,
              "#0d0887"
             ],
             [
              0.1111111111111111,
              "#46039f"
             ],
             [
              0.2222222222222222,
              "#7201a8"
             ],
             [
              0.3333333333333333,
              "#9c179e"
             ],
             [
              0.4444444444444444,
              "#bd3786"
             ],
             [
              0.5555555555555556,
              "#d8576b"
             ],
             [
              0.6666666666666666,
              "#ed7953"
             ],
             [
              0.7777777777777778,
              "#fb9f3a"
             ],
             [
              0.8888888888888888,
              "#fdca26"
             ],
             [
              1,
              "#f0f921"
             ]
            ],
            "type": "histogram2d"
           }
          ],
          "histogram2dcontour": [
           {
            "colorbar": {
             "outlinewidth": 0,
             "ticks": ""
            },
            "colorscale": [
             [
              0,
              "#0d0887"
             ],
             [
              0.1111111111111111,
              "#46039f"
             ],
             [
              0.2222222222222222,
              "#7201a8"
             ],
             [
              0.3333333333333333,
              "#9c179e"
             ],
             [
              0.4444444444444444,
              "#bd3786"
             ],
             [
              0.5555555555555556,
              "#d8576b"
             ],
             [
              0.6666666666666666,
              "#ed7953"
             ],
             [
              0.7777777777777778,
              "#fb9f3a"
             ],
             [
              0.8888888888888888,
              "#fdca26"
             ],
             [
              1,
              "#f0f921"
             ]
            ],
            "type": "histogram2dcontour"
           }
          ],
          "mesh3d": [
           {
            "colorbar": {
             "outlinewidth": 0,
             "ticks": ""
            },
            "type": "mesh3d"
           }
          ],
          "parcoords": [
           {
            "line": {
             "colorbar": {
              "outlinewidth": 0,
              "ticks": ""
             }
            },
            "type": "parcoords"
           }
          ],
          "pie": [
           {
            "automargin": true,
            "type": "pie"
           }
          ],
          "scatter": [
           {
            "marker": {
             "colorbar": {
              "outlinewidth": 0,
              "ticks": ""
             }
            },
            "type": "scatter"
           }
          ],
          "scatter3d": [
           {
            "line": {
             "colorbar": {
              "outlinewidth": 0,
              "ticks": ""
             }
            },
            "marker": {
             "colorbar": {
              "outlinewidth": 0,
              "ticks": ""
             }
            },
            "type": "scatter3d"
           }
          ],
          "scattercarpet": [
           {
            "marker": {
             "colorbar": {
              "outlinewidth": 0,
              "ticks": ""
             }
            },
            "type": "scattercarpet"
           }
          ],
          "scattergeo": [
           {
            "marker": {
             "colorbar": {
              "outlinewidth": 0,
              "ticks": ""
             }
            },
            "type": "scattergeo"
           }
          ],
          "scattergl": [
           {
            "marker": {
             "colorbar": {
              "outlinewidth": 0,
              "ticks": ""
             }
            },
            "type": "scattergl"
           }
          ],
          "scattermapbox": [
           {
            "marker": {
             "colorbar": {
              "outlinewidth": 0,
              "ticks": ""
             }
            },
            "type": "scattermapbox"
           }
          ],
          "scatterpolar": [
           {
            "marker": {
             "colorbar": {
              "outlinewidth": 0,
              "ticks": ""
             }
            },
            "type": "scatterpolar"
           }
          ],
          "scatterpolargl": [
           {
            "marker": {
             "colorbar": {
              "outlinewidth": 0,
              "ticks": ""
             }
            },
            "type": "scatterpolargl"
           }
          ],
          "scatterternary": [
           {
            "marker": {
             "colorbar": {
              "outlinewidth": 0,
              "ticks": ""
             }
            },
            "type": "scatterternary"
           }
          ],
          "surface": [
           {
            "colorbar": {
             "outlinewidth": 0,
             "ticks": ""
            },
            "colorscale": [
             [
              0,
              "#0d0887"
             ],
             [
              0.1111111111111111,
              "#46039f"
             ],
             [
              0.2222222222222222,
              "#7201a8"
             ],
             [
              0.3333333333333333,
              "#9c179e"
             ],
             [
              0.4444444444444444,
              "#bd3786"
             ],
             [
              0.5555555555555556,
              "#d8576b"
             ],
             [
              0.6666666666666666,
              "#ed7953"
             ],
             [
              0.7777777777777778,
              "#fb9f3a"
             ],
             [
              0.8888888888888888,
              "#fdca26"
             ],
             [
              1,
              "#f0f921"
             ]
            ],
            "type": "surface"
           }
          ],
          "table": [
           {
            "cells": {
             "fill": {
              "color": "#EBF0F8"
             },
             "line": {
              "color": "white"
             }
            },
            "header": {
             "fill": {
              "color": "#C8D4E3"
             },
             "line": {
              "color": "white"
             }
            },
            "type": "table"
           }
          ]
         },
         "layout": {
          "annotationdefaults": {
           "arrowcolor": "#2a3f5f",
           "arrowhead": 0,
           "arrowwidth": 1
          },
          "coloraxis": {
           "colorbar": {
            "outlinewidth": 0,
            "ticks": ""
           }
          },
          "colorscale": {
           "diverging": [
            [
             0,
             "#8e0152"
            ],
            [
             0.1,
             "#c51b7d"
            ],
            [
             0.2,
             "#de77ae"
            ],
            [
             0.3,
             "#f1b6da"
            ],
            [
             0.4,
             "#fde0ef"
            ],
            [
             0.5,
             "#f7f7f7"
            ],
            [
             0.6,
             "#e6f5d0"
            ],
            [
             0.7,
             "#b8e186"
            ],
            [
             0.8,
             "#7fbc41"
            ],
            [
             0.9,
             "#4d9221"
            ],
            [
             1,
             "#276419"
            ]
           ],
           "sequential": [
            [
             0,
             "#0d0887"
            ],
            [
             0.1111111111111111,
             "#46039f"
            ],
            [
             0.2222222222222222,
             "#7201a8"
            ],
            [
             0.3333333333333333,
             "#9c179e"
            ],
            [
             0.4444444444444444,
             "#bd3786"
            ],
            [
             0.5555555555555556,
             "#d8576b"
            ],
            [
             0.6666666666666666,
             "#ed7953"
            ],
            [
             0.7777777777777778,
             "#fb9f3a"
            ],
            [
             0.8888888888888888,
             "#fdca26"
            ],
            [
             1,
             "#f0f921"
            ]
           ],
           "sequentialminus": [
            [
             0,
             "#0d0887"
            ],
            [
             0.1111111111111111,
             "#46039f"
            ],
            [
             0.2222222222222222,
             "#7201a8"
            ],
            [
             0.3333333333333333,
             "#9c179e"
            ],
            [
             0.4444444444444444,
             "#bd3786"
            ],
            [
             0.5555555555555556,
             "#d8576b"
            ],
            [
             0.6666666666666666,
             "#ed7953"
            ],
            [
             0.7777777777777778,
             "#fb9f3a"
            ],
            [
             0.8888888888888888,
             "#fdca26"
            ],
            [
             1,
             "#f0f921"
            ]
           ]
          },
          "colorway": [
           "#636efa",
           "#EF553B",
           "#00cc96",
           "#ab63fa",
           "#FFA15A",
           "#19d3f3",
           "#FF6692",
           "#B6E880",
           "#FF97FF",
           "#FECB52"
          ],
          "font": {
           "color": "#2a3f5f"
          },
          "geo": {
           "bgcolor": "white",
           "lakecolor": "white",
           "landcolor": "#E5ECF6",
           "showlakes": true,
           "showland": true,
           "subunitcolor": "white"
          },
          "hoverlabel": {
           "align": "left"
          },
          "hovermode": "closest",
          "mapbox": {
           "style": "light"
          },
          "paper_bgcolor": "white",
          "plot_bgcolor": "#E5ECF6",
          "polar": {
           "angularaxis": {
            "gridcolor": "white",
            "linecolor": "white",
            "ticks": ""
           },
           "bgcolor": "#E5ECF6",
           "radialaxis": {
            "gridcolor": "white",
            "linecolor": "white",
            "ticks": ""
           }
          },
          "scene": {
           "xaxis": {
            "backgroundcolor": "#E5ECF6",
            "gridcolor": "white",
            "gridwidth": 2,
            "linecolor": "white",
            "showbackground": true,
            "ticks": "",
            "zerolinecolor": "white"
           },
           "yaxis": {
            "backgroundcolor": "#E5ECF6",
            "gridcolor": "white",
            "gridwidth": 2,
            "linecolor": "white",
            "showbackground": true,
            "ticks": "",
            "zerolinecolor": "white"
           },
           "zaxis": {
            "backgroundcolor": "#E5ECF6",
            "gridcolor": "white",
            "gridwidth": 2,
            "linecolor": "white",
            "showbackground": true,
            "ticks": "",
            "zerolinecolor": "white"
           }
          },
          "shapedefaults": {
           "line": {
            "color": "#2a3f5f"
           }
          },
          "ternary": {
           "aaxis": {
            "gridcolor": "white",
            "linecolor": "white",
            "ticks": ""
           },
           "baxis": {
            "gridcolor": "white",
            "linecolor": "white",
            "ticks": ""
           },
           "bgcolor": "#E5ECF6",
           "caxis": {
            "gridcolor": "white",
            "linecolor": "white",
            "ticks": ""
           }
          },
          "title": {
           "x": 0.05
          },
          "xaxis": {
           "automargin": true,
           "gridcolor": "white",
           "linecolor": "white",
           "ticks": "",
           "title": {
            "standoff": 15
           },
           "zerolinecolor": "white",
           "zerolinewidth": 2
          },
          "yaxis": {
           "automargin": true,
           "gridcolor": "white",
           "linecolor": "white",
           "ticks": "",
           "title": {
            "standoff": 15
           },
           "zerolinecolor": "white",
           "zerolinewidth": 2
          }
         }
        },
        "xaxis": {
         "anchor": "y",
         "domain": [
          0,
          1
         ],
         "title": {
          "text": "index"
         }
        },
        "yaxis": {
         "anchor": "x",
         "domain": [
          0,
          1
         ],
         "title": {
          "text": "0"
         }
        }
       }
      },
      "text/html": [
       "<div>\n",
       "        \n",
       "        \n",
       "            <div id=\"27ebd447-349f-45d4-9a0e-d53330e0185b\" class=\"plotly-graph-div\" style=\"height:525px; width:100%;\"></div>\n",
       "            <script type=\"text/javascript\">\n",
       "                require([\"plotly\"], function(Plotly) {\n",
       "                    window.PLOTLYENV=window.PLOTLYENV || {};\n",
       "                    \n",
       "                if (document.getElementById(\"27ebd447-349f-45d4-9a0e-d53330e0185b\")) {\n",
       "                    Plotly.newPlot(\n",
       "                        '27ebd447-349f-45d4-9a0e-d53330e0185b',\n",
       "                        [{\"alignmentgroup\": \"True\", \"hovertemplate\": \"index=%{x}<br>0=%{y}<extra></extra>\", \"legendgroup\": \"\", \"marker\": {\"color\": \"#636efa\"}, \"name\": \"\", \"offsetgroup\": \"\", \"orientation\": \"v\", \"showlegend\": false, \"textposition\": \"auto\", \"type\": \"bar\", \"x\": [\"danceability\", \"energy\", \"key\", \"loudness\", \"mode\", \"speechiness\", \"acousticness\", \"instrumentalness\", \"liveness\", \"valence\"], \"xaxis\": \"x\", \"y\": [0.6046486486486488, 0.7174864864864865, 5.081081081081081, -5.725108108108108, 0.5540540540540541, 0.06833918918918917, 0.143094045945946, 0.012891192027027027, 0.17235135135135135, 0.5671635135135137], \"yaxis\": \"y\"}],\n",
       "                        {\"barmode\": \"relative\", \"legend\": {\"tracegroupgap\": 0}, \"margin\": {\"t\": 60}, \"template\": {\"data\": {\"bar\": [{\"error_x\": {\"color\": \"#2a3f5f\"}, \"error_y\": {\"color\": \"#2a3f5f\"}, \"marker\": {\"line\": {\"color\": \"#E5ECF6\", \"width\": 0.5}}, \"type\": \"bar\"}], \"barpolar\": [{\"marker\": {\"line\": {\"color\": \"#E5ECF6\", \"width\": 0.5}}, \"type\": \"barpolar\"}], \"carpet\": [{\"aaxis\": {\"endlinecolor\": \"#2a3f5f\", \"gridcolor\": \"white\", \"linecolor\": \"white\", \"minorgridcolor\": \"white\", \"startlinecolor\": \"#2a3f5f\"}, \"baxis\": {\"endlinecolor\": \"#2a3f5f\", \"gridcolor\": \"white\", \"linecolor\": \"white\", \"minorgridcolor\": \"white\", \"startlinecolor\": \"#2a3f5f\"}, \"type\": \"carpet\"}], \"choropleth\": [{\"colorbar\": {\"outlinewidth\": 0, \"ticks\": \"\"}, \"type\": \"choropleth\"}], \"contour\": [{\"colorbar\": {\"outlinewidth\": 0, \"ticks\": \"\"}, \"colorscale\": [[0.0, \"#0d0887\"], [0.1111111111111111, \"#46039f\"], [0.2222222222222222, \"#7201a8\"], [0.3333333333333333, \"#9c179e\"], [0.4444444444444444, \"#bd3786\"], [0.5555555555555556, \"#d8576b\"], [0.6666666666666666, \"#ed7953\"], [0.7777777777777778, \"#fb9f3a\"], [0.8888888888888888, \"#fdca26\"], [1.0, \"#f0f921\"]], \"type\": \"contour\"}], \"contourcarpet\": [{\"colorbar\": {\"outlinewidth\": 0, \"ticks\": \"\"}, \"type\": \"contourcarpet\"}], \"heatmap\": [{\"colorbar\": {\"outlinewidth\": 0, \"ticks\": \"\"}, \"colorscale\": [[0.0, \"#0d0887\"], [0.1111111111111111, \"#46039f\"], [0.2222222222222222, \"#7201a8\"], [0.3333333333333333, \"#9c179e\"], [0.4444444444444444, \"#bd3786\"], [0.5555555555555556, \"#d8576b\"], [0.6666666666666666, \"#ed7953\"], [0.7777777777777778, \"#fb9f3a\"], [0.8888888888888888, \"#fdca26\"], [1.0, \"#f0f921\"]], \"type\": \"heatmap\"}], \"heatmapgl\": [{\"colorbar\": {\"outlinewidth\": 0, \"ticks\": \"\"}, \"colorscale\": [[0.0, \"#0d0887\"], [0.1111111111111111, \"#46039f\"], [0.2222222222222222, \"#7201a8\"], [0.3333333333333333, \"#9c179e\"], [0.4444444444444444, \"#bd3786\"], [0.5555555555555556, \"#d8576b\"], [0.6666666666666666, \"#ed7953\"], [0.7777777777777778, \"#fb9f3a\"], [0.8888888888888888, \"#fdca26\"], [1.0, \"#f0f921\"]], \"type\": \"heatmapgl\"}], \"histogram\": [{\"marker\": {\"colorbar\": {\"outlinewidth\": 0, \"ticks\": \"\"}}, \"type\": \"histogram\"}], \"histogram2d\": [{\"colorbar\": {\"outlinewidth\": 0, \"ticks\": \"\"}, \"colorscale\": [[0.0, \"#0d0887\"], [0.1111111111111111, \"#46039f\"], [0.2222222222222222, \"#7201a8\"], [0.3333333333333333, \"#9c179e\"], [0.4444444444444444, \"#bd3786\"], [0.5555555555555556, \"#d8576b\"], [0.6666666666666666, \"#ed7953\"], [0.7777777777777778, \"#fb9f3a\"], [0.8888888888888888, \"#fdca26\"], [1.0, \"#f0f921\"]], \"type\": \"histogram2d\"}], \"histogram2dcontour\": [{\"colorbar\": {\"outlinewidth\": 0, \"ticks\": \"\"}, \"colorscale\": [[0.0, \"#0d0887\"], [0.1111111111111111, \"#46039f\"], [0.2222222222222222, \"#7201a8\"], [0.3333333333333333, \"#9c179e\"], [0.4444444444444444, \"#bd3786\"], [0.5555555555555556, \"#d8576b\"], [0.6666666666666666, \"#ed7953\"], [0.7777777777777778, \"#fb9f3a\"], [0.8888888888888888, \"#fdca26\"], [1.0, \"#f0f921\"]], \"type\": \"histogram2dcontour\"}], \"mesh3d\": [{\"colorbar\": {\"outlinewidth\": 0, \"ticks\": \"\"}, \"type\": \"mesh3d\"}], \"parcoords\": [{\"line\": {\"colorbar\": {\"outlinewidth\": 0, \"ticks\": \"\"}}, \"type\": \"parcoords\"}], \"pie\": [{\"automargin\": true, \"type\": \"pie\"}], \"scatter\": [{\"marker\": {\"colorbar\": {\"outlinewidth\": 0, \"ticks\": \"\"}}, \"type\": \"scatter\"}], \"scatter3d\": [{\"line\": {\"colorbar\": {\"outlinewidth\": 0, \"ticks\": \"\"}}, \"marker\": {\"colorbar\": {\"outlinewidth\": 0, \"ticks\": \"\"}}, \"type\": \"scatter3d\"}], \"scattercarpet\": [{\"marker\": {\"colorbar\": {\"outlinewidth\": 0, \"ticks\": \"\"}}, \"type\": \"scattercarpet\"}], \"scattergeo\": [{\"marker\": {\"colorbar\": {\"outlinewidth\": 0, \"ticks\": \"\"}}, \"type\": \"scattergeo\"}], \"scattergl\": [{\"marker\": {\"colorbar\": {\"outlinewidth\": 0, \"ticks\": \"\"}}, \"type\": \"scattergl\"}], \"scattermapbox\": [{\"marker\": {\"colorbar\": {\"outlinewidth\": 0, \"ticks\": \"\"}}, \"type\": \"scattermapbox\"}], \"scatterpolar\": [{\"marker\": {\"colorbar\": {\"outlinewidth\": 0, \"ticks\": \"\"}}, \"type\": \"scatterpolar\"}], \"scatterpolargl\": [{\"marker\": {\"colorbar\": {\"outlinewidth\": 0, \"ticks\": \"\"}}, \"type\": \"scatterpolargl\"}], \"scatterternary\": [{\"marker\": {\"colorbar\": {\"outlinewidth\": 0, \"ticks\": \"\"}}, \"type\": \"scatterternary\"}], \"surface\": [{\"colorbar\": {\"outlinewidth\": 0, \"ticks\": \"\"}, \"colorscale\": [[0.0, \"#0d0887\"], [0.1111111111111111, \"#46039f\"], [0.2222222222222222, \"#7201a8\"], [0.3333333333333333, \"#9c179e\"], [0.4444444444444444, \"#bd3786\"], [0.5555555555555556, \"#d8576b\"], [0.6666666666666666, \"#ed7953\"], [0.7777777777777778, \"#fb9f3a\"], [0.8888888888888888, \"#fdca26\"], [1.0, \"#f0f921\"]], \"type\": \"surface\"}], \"table\": [{\"cells\": {\"fill\": {\"color\": \"#EBF0F8\"}, \"line\": {\"color\": \"white\"}}, \"header\": {\"fill\": {\"color\": \"#C8D4E3\"}, \"line\": {\"color\": \"white\"}}, \"type\": \"table\"}]}, \"layout\": {\"annotationdefaults\": {\"arrowcolor\": \"#2a3f5f\", \"arrowhead\": 0, \"arrowwidth\": 1}, \"coloraxis\": {\"colorbar\": {\"outlinewidth\": 0, \"ticks\": \"\"}}, \"colorscale\": {\"diverging\": [[0, \"#8e0152\"], [0.1, \"#c51b7d\"], [0.2, \"#de77ae\"], [0.3, \"#f1b6da\"], [0.4, \"#fde0ef\"], [0.5, \"#f7f7f7\"], [0.6, \"#e6f5d0\"], [0.7, \"#b8e186\"], [0.8, \"#7fbc41\"], [0.9, \"#4d9221\"], [1, \"#276419\"]], \"sequential\": [[0.0, \"#0d0887\"], [0.1111111111111111, \"#46039f\"], [0.2222222222222222, \"#7201a8\"], [0.3333333333333333, \"#9c179e\"], [0.4444444444444444, \"#bd3786\"], [0.5555555555555556, \"#d8576b\"], [0.6666666666666666, \"#ed7953\"], [0.7777777777777778, \"#fb9f3a\"], [0.8888888888888888, \"#fdca26\"], [1.0, \"#f0f921\"]], \"sequentialminus\": [[0.0, \"#0d0887\"], [0.1111111111111111, \"#46039f\"], [0.2222222222222222, \"#7201a8\"], [0.3333333333333333, \"#9c179e\"], [0.4444444444444444, \"#bd3786\"], [0.5555555555555556, \"#d8576b\"], [0.6666666666666666, \"#ed7953\"], [0.7777777777777778, \"#fb9f3a\"], [0.8888888888888888, \"#fdca26\"], [1.0, \"#f0f921\"]]}, \"colorway\": [\"#636efa\", \"#EF553B\", \"#00cc96\", \"#ab63fa\", \"#FFA15A\", \"#19d3f3\", \"#FF6692\", \"#B6E880\", \"#FF97FF\", \"#FECB52\"], \"font\": {\"color\": \"#2a3f5f\"}, \"geo\": {\"bgcolor\": \"white\", \"lakecolor\": \"white\", \"landcolor\": \"#E5ECF6\", \"showlakes\": true, \"showland\": true, \"subunitcolor\": \"white\"}, \"hoverlabel\": {\"align\": \"left\"}, \"hovermode\": \"closest\", \"mapbox\": {\"style\": \"light\"}, \"paper_bgcolor\": \"white\", \"plot_bgcolor\": \"#E5ECF6\", \"polar\": {\"angularaxis\": {\"gridcolor\": \"white\", \"linecolor\": \"white\", \"ticks\": \"\"}, \"bgcolor\": \"#E5ECF6\", \"radialaxis\": {\"gridcolor\": \"white\", \"linecolor\": \"white\", \"ticks\": \"\"}}, \"scene\": {\"xaxis\": {\"backgroundcolor\": \"#E5ECF6\", \"gridcolor\": \"white\", \"gridwidth\": 2, \"linecolor\": \"white\", \"showbackground\": true, \"ticks\": \"\", \"zerolinecolor\": \"white\"}, \"yaxis\": {\"backgroundcolor\": \"#E5ECF6\", \"gridcolor\": \"white\", \"gridwidth\": 2, \"linecolor\": \"white\", \"showbackground\": true, \"ticks\": \"\", \"zerolinecolor\": \"white\"}, \"zaxis\": {\"backgroundcolor\": \"#E5ECF6\", \"gridcolor\": \"white\", \"gridwidth\": 2, \"linecolor\": \"white\", \"showbackground\": true, \"ticks\": \"\", \"zerolinecolor\": \"white\"}}, \"shapedefaults\": {\"line\": {\"color\": \"#2a3f5f\"}}, \"ternary\": {\"aaxis\": {\"gridcolor\": \"white\", \"linecolor\": \"white\", \"ticks\": \"\"}, \"baxis\": {\"gridcolor\": \"white\", \"linecolor\": \"white\", \"ticks\": \"\"}, \"bgcolor\": \"#E5ECF6\", \"caxis\": {\"gridcolor\": \"white\", \"linecolor\": \"white\", \"ticks\": \"\"}}, \"title\": {\"x\": 0.05}, \"xaxis\": {\"automargin\": true, \"gridcolor\": \"white\", \"linecolor\": \"white\", \"ticks\": \"\", \"title\": {\"standoff\": 15}, \"zerolinecolor\": \"white\", \"zerolinewidth\": 2}, \"yaxis\": {\"automargin\": true, \"gridcolor\": \"white\", \"linecolor\": \"white\", \"ticks\": \"\", \"title\": {\"standoff\": 15}, \"zerolinecolor\": \"white\", \"zerolinewidth\": 2}}}, \"xaxis\": {\"anchor\": \"y\", \"domain\": [0.0, 1.0], \"title\": {\"text\": \"index\"}}, \"yaxis\": {\"anchor\": \"x\", \"domain\": [0.0, 1.0], \"title\": {\"text\": \"0\"}}},\n",
       "                        {\"responsive\": true}\n",
       "                    ).then(function(){\n",
       "                            \n",
       "var gd = document.getElementById('27ebd447-349f-45d4-9a0e-d53330e0185b');\n",
       "var x = new MutationObserver(function (mutations, observer) {{\n",
       "        var display = window.getComputedStyle(gd).display;\n",
       "        if (!display || display === 'none') {{\n",
       "            console.log([gd, 'removed!']);\n",
       "            Plotly.purge(gd);\n",
       "            observer.disconnect();\n",
       "        }}\n",
       "}});\n",
       "\n",
       "// Listen for the removal of the full notebook cells\n",
       "var notebookContainer = gd.closest('#notebook-container');\n",
       "if (notebookContainer) {{\n",
       "    x.observe(notebookContainer, {childList: true});\n",
       "}}\n",
       "\n",
       "// Listen for the clearing of the current output cell\n",
       "var outputEl = gd.closest('.output');\n",
       "if (outputEl) {{\n",
       "    x.observe(outputEl, {childList: true});\n",
       "}}\n",
       "\n",
       "                        })\n",
       "                };\n",
       "                });\n",
       "            </script>\n",
       "        </div>"
      ]
     },
     "metadata": {},
     "output_type": "display_data"
    }
   ],
   "source": [
    "fig = px.bar(means, x ='index', y = means[0])\n",
    "fig.show()"
   ]
  },
  {
   "cell_type": "code",
   "execution_count": null,
   "metadata": {},
   "outputs": [],
   "source": []
  }
 ],
 "metadata": {
  "kernelspec": {
   "display_name": "Python 3.7.4 64-bit",
   "language": "python",
   "name": "python37464bit6dab32899f6947caab61992746272921"
  },
  "language_info": {
   "codemirror_mode": {
    "name": "ipython",
    "version": 3
   },
   "file_extension": ".py",
   "mimetype": "text/x-python",
   "name": "python",
   "nbconvert_exporter": "python",
   "pygments_lexer": "ipython3",
   "version": "3.7.4"
  }
 },
 "nbformat": 4,
 "nbformat_minor": 2
}
